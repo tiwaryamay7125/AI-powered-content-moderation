{
 "cells": [
  {
   "cell_type": "code",
   "execution_count": 1,
   "metadata": {},
   "outputs": [
    {
     "name": "stdout",
     "output_type": "stream",
     "text": [
      "Content Moderation Test Code\n"
     ]
    }
   ],
   "source": [
    "print('Content Moderation Test Code')"
   ]
  },
  {
   "cell_type": "code",
   "execution_count": 1,
   "metadata": {},
   "outputs": [
    {
     "name": "stdout",
     "output_type": "stream",
     "text": [
      "After analyzing the content, I've identified some biases and areas that can be improved:\n",
      "\n",
      "* **Racial bias**: None detected directly related to Zelenskyy's ethnicity or skin color.\n",
      "* **Gender bias**: None detected specifically targeting or excluding a gender group.\n",
      "* **Religious bias**: None detected related to Zelenskyy's religious affiliations or background.\n",
      "* **Political bias**: Present, with the author expressing disappointment and criticism towards President Zelenskyy's actions in a bilateral meeting. The text implies that the author holds certain expectations for how a head of state should behave, which may be politically motivated.\n",
      "* **General unethical behavior**: Arguably present, as the author labels Zelenskyy's actions \"shocking\" and \"berated,\" without providing specific context to support this characterization.\n",
      "\n",
      "**Severity rating: 6/10**\n",
      "\n",
      "The content does not contain overtly discriminatory or offensive language. However, the implicit assumption that the Ukrainian president should have been more anxious to sign an agreement might be seen as a slight to his credibility or decision-making abilities. This subtle criticism may still cause discomfort for some readers.\n",
      "\n",
      "**Detailed explanation and suggested improvements:**\n",
      "\n",
      "* While it's acceptable to express disappointment with Zelenskyy's actions, the language used is quite strong, implying that he acted unprofessionally. Consider using neutral language to describe his behavior, focusing on the outcome rather than making value judgments.\n",
      "* To improve impartiality, it could be beneficial to include quotes or paraphrases from other sources (e.g., official statements, eyewitness accounts) to demonstrate the meeting's objectives and provide context for Zelenskyy's actions.\n",
      "* Consider providing a more balanced view, exploring possible reasons behind the Ukrainian president's behavior. This would add depth to the discussion and promote understanding.\n",
      "\n",
      "Overall, the analysis suggests that some adjustments can be made to make the content more objective and less critical of President Zelenskyy.\n"
     ]
    }
   ],
   "source": [
    "import content_moderation_system as cms\n",
    "text = \"\"\"The person who walked away from the table yesterday was President Zelenskyy. \n",
    "I mean, look, I’ve been involved in a lot of bilateral meetings like this with heads of state and dignitaries. \n",
    "There’s a certain protocol to these events. But for him to act as he did was rather shocking to everyone. \n",
    "I mean, President Zelenskyy, instead of showing gratitude, he interrupted and berated his hosts at a very perilous time for his country. \n",
    "He should have been anxious, I think, to enter into this agreement\"\"\"\n",
    "response = cms.analyze_content(text)\n",
    "print(response)\n"
   ]
  },
  {
   "cell_type": "code",
   "execution_count": null,
   "metadata": {},
   "outputs": [],
   "source": []
  }
 ],
 "metadata": {
  "kernelspec": {
   "display_name": ".venv",
   "language": "python",
   "name": "python3"
  },
  "language_info": {
   "codemirror_mode": {
    "name": "ipython",
    "version": 3
   },
   "file_extension": ".py",
   "mimetype": "text/x-python",
   "name": "python",
   "nbconvert_exporter": "python",
   "pygments_lexer": "ipython3",
   "version": "3.12.3"
  }
 },
 "nbformat": 4,
 "nbformat_minor": 2
}
